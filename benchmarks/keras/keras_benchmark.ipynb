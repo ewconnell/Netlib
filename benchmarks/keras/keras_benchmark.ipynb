{
 "cells": [
  {
   "cell_type": "code",
   "execution_count": 2,
   "metadata": {},
   "outputs": [],
   "source": [
    "# TensorFlow and tf.keras\n",
    "import tensorflow as tf\n",
    "from tensorflow import keras\n",
    "\n",
    "# Helper libraries\n",
    "import time\n",
    "import numpy as np\n",
    "import matplotlib.pyplot as plt"
   ]
  },
  {
   "cell_type": "code",
   "execution_count": 3,
   "metadata": {},
   "outputs": [],
   "source": [
    "start = time.time()\n",
    "mnist = keras.datasets.mnist\n",
    "(train_images, train_labels), (test_images, test_labels) = mnist.load_data()\n",
    "class_names = ['0', '1', '2', '3', '4', '5', '6', '7', '8', '9']\n",
    "train_images = train_images / 255.0\n",
    "test_images = test_images / 255.0"
   ]
  },
  {
   "cell_type": "code",
   "execution_count": 4,
   "metadata": {},
   "outputs": [
    {
     "name": "stdout",
     "output_type": "stream",
     "text": [
      "WARNING:tensorflow:From /usr/local/lib/python2.7/dist-packages/tensorflow/python/ops/resource_variable_ops.py:435: colocate_with (from tensorflow.python.framework.ops) is deprecated and will be removed in a future version.\n",
      "Instructions for updating:\n",
      "Colocations handled automatically by placer.\n"
     ]
    }
   ],
   "source": [
    "model = keras.Sequential([\n",
    "    keras.layers.Conv2D(20, 5, input_shape=(28, 28, 1)),\n",
    "    keras.layers.MaxPooling2D(),\n",
    "    keras.layers.Conv2D(50, 5),\n",
    "    keras.layers.MaxPooling2D(),\n",
    "    keras.layers.Flatten(input_shape=(28, 28)),\n",
    "    keras.layers.Dense(500, activation=tf.nn.relu),\n",
    "    keras.layers.Dense(10, activation=tf.nn.softmax)\n",
    "])"
   ]
  },
  {
   "cell_type": "code",
   "execution_count": 5,
   "metadata": {},
   "outputs": [],
   "source": [
    "sgd = keras.optimizers.SGD(lr=0.01, decay=1e-6, momentum=0.9)\n",
    "model.compile(loss='sparse_categorical_crossentropy', optimizer=sgd, metrics=['accuracy'])"
   ]
  },
  {
   "cell_type": "code",
   "execution_count": 6,
   "metadata": {},
   "outputs": [
    {
     "name": "stdout",
     "output_type": "stream",
     "text": [
      "60000/60000 [==============================] - 5s 90us/sample - loss: 0.2036 - acc: 0.9386\n",
      "10000/10000 [==============================] - 1s 79us/sample - loss: 0.0776 - acc: 0.9751\n",
      "validation test accuracy: 0.9751\n",
      "60000/60000 [==============================] - 5s 78us/sample - loss: 0.0556 - acc: 0.9826\n",
      "10000/10000 [==============================] - 1s 74us/sample - loss: 0.0460 - acc: 0.9839\n",
      "validation test accuracy: 0.9839\n",
      "60000/60000 [==============================] - 5s 77us/sample - loss: 0.0354 - acc: 0.9890\n",
      "10000/10000 [==============================] - 1s 73us/sample - loss: 0.0390 - acc: 0.9878\n",
      "validation test accuracy: 0.9878\n",
      "60000/60000 [==============================] - 5s 77us/sample - loss: 0.0255 - acc: 0.9921\n",
      "10000/10000 [==============================] - 1s 71us/sample - loss: 0.0364 - acc: 0.9890\n",
      "validation test accuracy: 0.989\n",
      "60000/60000 [==============================] - 5s 78us/sample - loss: 0.0187 - acc: 0.9944\n",
      "10000/10000 [==============================] - 1s 73us/sample - loss: 0.0378 - acc: 0.9883\n",
      "validation test accuracy: 0.9883\n",
      "60000/60000 [==============================] - 5s 77us/sample - loss: 0.0130 - acc: 0.9961\n",
      "10000/10000 [==============================] - 1s 74us/sample - loss: 0.0331 - acc: 0.9894\n",
      "validation test accuracy: 0.9894\n",
      "60000/60000 [==============================] - 5s 77us/sample - loss: 0.0107 - acc: 0.9967\n",
      "10000/10000 [==============================] - 1s 74us/sample - loss: 0.0354 - acc: 0.9886\n",
      "validation test accuracy: 0.9886\n",
      "60000/60000 [==============================] - 5s 77us/sample - loss: 0.0079 - acc: 0.9976\n",
      "10000/10000 [==============================] - 1s 72us/sample - loss: 0.0358 - acc: 0.9889\n",
      "validation test accuracy: 0.9889\n",
      "60000/60000 [==============================] - 5s 78us/sample - loss: 0.0055 - acc: 0.9984\n",
      "10000/10000 [==============================] - 1s 73us/sample - loss: 0.0348 - acc: 0.9905\n",
      "validation test accuracy: 0.9905\n",
      "60000/60000 [==============================] - 5s 77us/sample - loss: 0.0045 - acc: 0.9989\n",
      "10000/10000 [==============================] - 1s 74us/sample - loss: 0.0452 - acc: 0.9884\n",
      "validation test accuracy: 0.9884\n",
      "56.3131508827\n"
     ]
    }
   ],
   "source": [
    "for i in range(10):\n",
    "    model.fit(train_images.reshape([-1,28, 28,1]), train_labels, batch_size=60, epochs=1)\n",
    "    test_loss, test_acc = model.evaluate(test_images.reshape([-1,28, 28,1]), test_labels)\n",
    "    print 'validation test accuracy:', test_acc\n",
    "print(time.time() - start)"
   ]
  }
 ],
 "metadata": {
  "kernelspec": {
   "display_name": "Python 2",
   "language": "python",
   "name": "python2"
  },
  "language_info": {
   "codemirror_mode": {
    "name": "ipython",
    "version": 2
   },
   "file_extension": ".py",
   "mimetype": "text/x-python",
   "name": "python",
   "nbconvert_exporter": "python",
   "pygments_lexer": "ipython2",
   "version": "2.7.12"
  }
 },
 "nbformat": 4,
 "nbformat_minor": 2
}
